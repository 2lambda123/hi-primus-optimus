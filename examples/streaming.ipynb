{
 "cells": [
  {
   "cell_type": "code",
   "execution_count": 1,
   "metadata": {},
   "outputs": [],
   "source": [
    "%load_ext autoreload\n",
    "%autoreload 2"
   ]
  },
  {
   "cell_type": "code",
   "execution_count": 2,
   "metadata": {},
   "outputs": [],
   "source": [
    "import sys\n",
    "sys.path.append(\"..\")"
   ]
  },
  {
   "cell_type": "code",
   "execution_count": 3,
   "metadata": {},
   "outputs": [],
   "source": [
    "from optimus import Optimus"
   ]
  },
  {
   "cell_type": "code",
   "execution_count": 4,
   "outputs": [],
   "source": [
    "op = Optimus(\"pandas\")"
   ],
   "metadata": {
    "collapsed": false
   }
  },
  {
   "cell_type": "code",
   "execution_count": 5,
   "outputs": [],
   "source": [
    "url = \"https://raw.githubusercontent.com/hi-primus/optimus/develop/examples/data/foo.csv\"\n",
    "df = op.load.csv(url)"
   ],
   "metadata": {
    "collapsed": false
   }
  },
  {
   "cell_type": "code",
   "execution_count": 6,
   "outputs": [
    {
     "data": {
      "text/plain": "    id             firstName              lastName  billingId     product  \\\n0    1                  Luis           Alvarez$$%!        123        Cake   \n1    2                 André                Ampère        423        piza   \n2    3                 NiELS            Böhr//((%%        551       pizza   \n3    4                  PAUL                dirac$        521       pizza   \n4    5                Albert              Einstein        634       pizza   \n5    6               Galileo               GALiLEI        672       arepa   \n6    7                  CaRL              Ga%%%uss        323        taco   \n7    8                 David            H$$$ilbert        624    taaaccoo   \n8    9              Johannes                KEPLER        735        taco   \n9   10                 JaMES           M$$ax%%well        875        taco   \n10  11                 Isaac                Newton        992       pasta   \n11  12                Emmy%%              Nöether$        234       pasta   \n12  13                Max!!!             Planck!!!        111  hamburguer   \n13  14                  Fred              Hoy&&&le        553      pizzza   \n14  15  (((   Heinrich )))))                 Hertz        116       pizza   \n15  16               William            Gilbert###        886        BEER   \n16  17                 Marie                 CURIE        912        Rice   \n17  18                Arthur            COM%%%pton        812      110790   \n18  19                 JAMES              Chadwick        467        null   \n\n    price       birth dummyCol  \n0      10  1980/07/07    never  \n1       8  1950/07/08    gonna  \n2       8  1990/07/09     give  \n3       8  1954/07/10      you  \n4       8  1990/07/11       up  \n5       5  1930/08/12    never  \n6       3  1970/07/13    gonna  \n7       3  1950/07/14      let  \n8       3  1920/04/22      you  \n9       3  1923/03/12     down  \n10      9  1999/02/15   never   \n11      9  1993/12/08    gonna  \n12      4  1994/01/04     run   \n13      8  1997/06/27   around  \n14      8  1956/11/30      and  \n15      2  1958/03/26   desert  \n16      1  2000/03/22      you  \n17      5  1899/01/01        #  \n18     10  1921/05/03        #  ",
      "text/html": "<div>\n<style scoped>\n    .dataframe tbody tr th:only-of-type {\n        vertical-align: middle;\n    }\n\n    .dataframe tbody tr th {\n        vertical-align: top;\n    }\n\n    .dataframe thead th {\n        text-align: right;\n    }\n</style>\n<table border=\"1\" class=\"dataframe\">\n  <thead>\n    <tr style=\"text-align: right;\">\n      <th></th>\n      <th>id</th>\n      <th>firstName</th>\n      <th>lastName</th>\n      <th>billingId</th>\n      <th>product</th>\n      <th>price</th>\n      <th>birth</th>\n      <th>dummyCol</th>\n    </tr>\n  </thead>\n  <tbody>\n    <tr>\n      <th>0</th>\n      <td>1</td>\n      <td>Luis</td>\n      <td>Alvarez$$%!</td>\n      <td>123</td>\n      <td>Cake</td>\n      <td>10</td>\n      <td>1980/07/07</td>\n      <td>never</td>\n    </tr>\n    <tr>\n      <th>1</th>\n      <td>2</td>\n      <td>André</td>\n      <td>Ampère</td>\n      <td>423</td>\n      <td>piza</td>\n      <td>8</td>\n      <td>1950/07/08</td>\n      <td>gonna</td>\n    </tr>\n    <tr>\n      <th>2</th>\n      <td>3</td>\n      <td>NiELS</td>\n      <td>Böhr//((%%</td>\n      <td>551</td>\n      <td>pizza</td>\n      <td>8</td>\n      <td>1990/07/09</td>\n      <td>give</td>\n    </tr>\n    <tr>\n      <th>3</th>\n      <td>4</td>\n      <td>PAUL</td>\n      <td>dirac$</td>\n      <td>521</td>\n      <td>pizza</td>\n      <td>8</td>\n      <td>1954/07/10</td>\n      <td>you</td>\n    </tr>\n    <tr>\n      <th>4</th>\n      <td>5</td>\n      <td>Albert</td>\n      <td>Einstein</td>\n      <td>634</td>\n      <td>pizza</td>\n      <td>8</td>\n      <td>1990/07/11</td>\n      <td>up</td>\n    </tr>\n    <tr>\n      <th>5</th>\n      <td>6</td>\n      <td>Galileo</td>\n      <td>GALiLEI</td>\n      <td>672</td>\n      <td>arepa</td>\n      <td>5</td>\n      <td>1930/08/12</td>\n      <td>never</td>\n    </tr>\n    <tr>\n      <th>6</th>\n      <td>7</td>\n      <td>CaRL</td>\n      <td>Ga%%%uss</td>\n      <td>323</td>\n      <td>taco</td>\n      <td>3</td>\n      <td>1970/07/13</td>\n      <td>gonna</td>\n    </tr>\n    <tr>\n      <th>7</th>\n      <td>8</td>\n      <td>David</td>\n      <td>H$$$ilbert</td>\n      <td>624</td>\n      <td>taaaccoo</td>\n      <td>3</td>\n      <td>1950/07/14</td>\n      <td>let</td>\n    </tr>\n    <tr>\n      <th>8</th>\n      <td>9</td>\n      <td>Johannes</td>\n      <td>KEPLER</td>\n      <td>735</td>\n      <td>taco</td>\n      <td>3</td>\n      <td>1920/04/22</td>\n      <td>you</td>\n    </tr>\n    <tr>\n      <th>9</th>\n      <td>10</td>\n      <td>JaMES</td>\n      <td>M$$ax%%well</td>\n      <td>875</td>\n      <td>taco</td>\n      <td>3</td>\n      <td>1923/03/12</td>\n      <td>down</td>\n    </tr>\n    <tr>\n      <th>10</th>\n      <td>11</td>\n      <td>Isaac</td>\n      <td>Newton</td>\n      <td>992</td>\n      <td>pasta</td>\n      <td>9</td>\n      <td>1999/02/15</td>\n      <td>never</td>\n    </tr>\n    <tr>\n      <th>11</th>\n      <td>12</td>\n      <td>Emmy%%</td>\n      <td>Nöether$</td>\n      <td>234</td>\n      <td>pasta</td>\n      <td>9</td>\n      <td>1993/12/08</td>\n      <td>gonna</td>\n    </tr>\n    <tr>\n      <th>12</th>\n      <td>13</td>\n      <td>Max!!!</td>\n      <td>Planck!!!</td>\n      <td>111</td>\n      <td>hamburguer</td>\n      <td>4</td>\n      <td>1994/01/04</td>\n      <td>run</td>\n    </tr>\n    <tr>\n      <th>13</th>\n      <td>14</td>\n      <td>Fred</td>\n      <td>Hoy&amp;&amp;&amp;le</td>\n      <td>553</td>\n      <td>pizzza</td>\n      <td>8</td>\n      <td>1997/06/27</td>\n      <td>around</td>\n    </tr>\n    <tr>\n      <th>14</th>\n      <td>15</td>\n      <td>(((   Heinrich )))))</td>\n      <td>Hertz</td>\n      <td>116</td>\n      <td>pizza</td>\n      <td>8</td>\n      <td>1956/11/30</td>\n      <td>and</td>\n    </tr>\n    <tr>\n      <th>15</th>\n      <td>16</td>\n      <td>William</td>\n      <td>Gilbert###</td>\n      <td>886</td>\n      <td>BEER</td>\n      <td>2</td>\n      <td>1958/03/26</td>\n      <td>desert</td>\n    </tr>\n    <tr>\n      <th>16</th>\n      <td>17</td>\n      <td>Marie</td>\n      <td>CURIE</td>\n      <td>912</td>\n      <td>Rice</td>\n      <td>1</td>\n      <td>2000/03/22</td>\n      <td>you</td>\n    </tr>\n    <tr>\n      <th>17</th>\n      <td>18</td>\n      <td>Arthur</td>\n      <td>COM%%%pton</td>\n      <td>812</td>\n      <td>110790</td>\n      <td>5</td>\n      <td>1899/01/01</td>\n      <td>#</td>\n    </tr>\n    <tr>\n      <th>18</th>\n      <td>19</td>\n      <td>JAMES</td>\n      <td>Chadwick</td>\n      <td>467</td>\n      <td>null</td>\n      <td>10</td>\n      <td>1921/05/03</td>\n      <td>#</td>\n    </tr>\n  </tbody>\n</table>\n</div>"
     },
     "execution_count": 6,
     "metadata": {},
     "output_type": "execute_result"
    }
   ],
   "source": [
    "df.data"
   ],
   "metadata": {
    "collapsed": false
   }
  },
  {
   "cell_type": "code",
   "execution_count": 11,
   "outputs": [
    {
     "data": {
      "text/plain": "{'hist': {'id': [{'lower': 1.0, 'upper': 4.6, 'count': 5},\n   {'lower': 4.6, 'upper': 8.2, 'count': 0},\n   {'lower': 8.2, 'upper': 11.8, 'count': 0},\n   {'lower': 11.8, 'upper': 15.4, 'count': 0},\n   {'lower': 15.4, 'upper': 19, 'count': 0}]}}"
     },
     "execution_count": 11,
     "metadata": {},
     "output_type": "execute_result"
    }
   ],
   "source": [
    "from optimus.engines.stream.stream import Stream\n",
    "def callback(values):\n",
    "    print(values)\n",
    "Stream(df).histogram(\"id\", n=5,chunk_size=10_000, callback=None)"
   ],
   "metadata": {
    "collapsed": false
   }
  },
  {
   "cell_type": "code",
   "execution_count": 12,
   "outputs": [
    {
     "name": "stdout",
     "output_type": "stream",
     "text": [
      "Wall time: 4 ms\n"
     ]
    },
    {
     "data": {
      "text/plain": "{'hist': {'id': [{'lower': 1.0, 'upper': 4.6, 'count': 4},\n   {'lower': 4.6, 'upper': 8.2, 'count': 4},\n   {'lower': 8.2, 'upper': 11.8, 'count': 3},\n   {'lower': 11.8, 'upper': 15.4, 'count': 4},\n   {'lower': 15.4, 'upper': 19.0, 'count': 4}]}}"
     },
     "execution_count": 12,
     "metadata": {},
     "output_type": "execute_result"
    }
   ],
   "source": [
    "%%time\n",
    "df.cols.hist(\"id\", 5)"
   ],
   "metadata": {
    "collapsed": false
   }
  },
  {
   "cell_type": "code",
   "execution_count": 13,
   "outputs": [],
   "source": [
    "from optimus.engines.stream.stream import Stream"
   ],
   "metadata": {
    "collapsed": false
   }
  },
  {
   "cell_type": "code",
   "execution_count": 14,
   "outputs": [
    {
     "data": {
      "text/plain": "    id             firstName              lastName  billingId     product  \\\n0    1                  Luis           Alvarez$$%!        123        Cake   \n1    2                 André                Ampère        423        piza   \n2    3                 NiELS            Böhr//((%%        551       pizza   \n3    4                  PAUL                dirac$        521       pizza   \n4    5                Albert              Einstein        634       pizza   \n5    6               Galileo               GALiLEI        672       arepa   \n6    7                  CaRL              Ga%%%uss        323        taco   \n7    8                 David            H$$$ilbert        624    taaaccoo   \n8    9              Johannes                KEPLER        735        taco   \n9   10                 JaMES           M$$ax%%well        875        taco   \n10  11                 Isaac                Newton        992       pasta   \n11  12                Emmy%%              Nöether$        234       pasta   \n12  13                Max!!!             Planck!!!        111  hamburguer   \n13  14                  Fred              Hoy&&&le        553      pizzza   \n14  15  (((   Heinrich )))))                 Hertz        116       pizza   \n15  16               William            Gilbert###        886        BEER   \n16  17                 Marie                 CURIE        912        Rice   \n17  18                Arthur            COM%%%pton        812      110790   \n18  19                 JAMES              Chadwick        467        null   \n\n    price       birth dummyCol  \n0      10  1980/07/07    never  \n1       8  1950/07/08    gonna  \n2       8  1990/07/09     give  \n3       8  1954/07/10      you  \n4       8  1990/07/11       up  \n5       5  1930/08/12    never  \n6       3  1970/07/13    gonna  \n7       3  1950/07/14      let  \n8       3  1920/04/22      you  \n9       3  1923/03/12     down  \n10      9  1999/02/15   never   \n11      9  1993/12/08    gonna  \n12      4  1994/01/04     run   \n13      8  1997/06/27   around  \n14      8  1956/11/30      and  \n15      2  1958/03/26   desert  \n16      1  2000/03/22      you  \n17      5  1899/01/01        #  \n18     10  1921/05/03        #  ",
      "text/html": "<div>\n<style scoped>\n    .dataframe tbody tr th:only-of-type {\n        vertical-align: middle;\n    }\n\n    .dataframe tbody tr th {\n        vertical-align: top;\n    }\n\n    .dataframe thead th {\n        text-align: right;\n    }\n</style>\n<table border=\"1\" class=\"dataframe\">\n  <thead>\n    <tr style=\"text-align: right;\">\n      <th></th>\n      <th>id</th>\n      <th>firstName</th>\n      <th>lastName</th>\n      <th>billingId</th>\n      <th>product</th>\n      <th>price</th>\n      <th>birth</th>\n      <th>dummyCol</th>\n    </tr>\n  </thead>\n  <tbody>\n    <tr>\n      <th>0</th>\n      <td>1</td>\n      <td>Luis</td>\n      <td>Alvarez$$%!</td>\n      <td>123</td>\n      <td>Cake</td>\n      <td>10</td>\n      <td>1980/07/07</td>\n      <td>never</td>\n    </tr>\n    <tr>\n      <th>1</th>\n      <td>2</td>\n      <td>André</td>\n      <td>Ampère</td>\n      <td>423</td>\n      <td>piza</td>\n      <td>8</td>\n      <td>1950/07/08</td>\n      <td>gonna</td>\n    </tr>\n    <tr>\n      <th>2</th>\n      <td>3</td>\n      <td>NiELS</td>\n      <td>Böhr//((%%</td>\n      <td>551</td>\n      <td>pizza</td>\n      <td>8</td>\n      <td>1990/07/09</td>\n      <td>give</td>\n    </tr>\n    <tr>\n      <th>3</th>\n      <td>4</td>\n      <td>PAUL</td>\n      <td>dirac$</td>\n      <td>521</td>\n      <td>pizza</td>\n      <td>8</td>\n      <td>1954/07/10</td>\n      <td>you</td>\n    </tr>\n    <tr>\n      <th>4</th>\n      <td>5</td>\n      <td>Albert</td>\n      <td>Einstein</td>\n      <td>634</td>\n      <td>pizza</td>\n      <td>8</td>\n      <td>1990/07/11</td>\n      <td>up</td>\n    </tr>\n    <tr>\n      <th>5</th>\n      <td>6</td>\n      <td>Galileo</td>\n      <td>GALiLEI</td>\n      <td>672</td>\n      <td>arepa</td>\n      <td>5</td>\n      <td>1930/08/12</td>\n      <td>never</td>\n    </tr>\n    <tr>\n      <th>6</th>\n      <td>7</td>\n      <td>CaRL</td>\n      <td>Ga%%%uss</td>\n      <td>323</td>\n      <td>taco</td>\n      <td>3</td>\n      <td>1970/07/13</td>\n      <td>gonna</td>\n    </tr>\n    <tr>\n      <th>7</th>\n      <td>8</td>\n      <td>David</td>\n      <td>H$$$ilbert</td>\n      <td>624</td>\n      <td>taaaccoo</td>\n      <td>3</td>\n      <td>1950/07/14</td>\n      <td>let</td>\n    </tr>\n    <tr>\n      <th>8</th>\n      <td>9</td>\n      <td>Johannes</td>\n      <td>KEPLER</td>\n      <td>735</td>\n      <td>taco</td>\n      <td>3</td>\n      <td>1920/04/22</td>\n      <td>you</td>\n    </tr>\n    <tr>\n      <th>9</th>\n      <td>10</td>\n      <td>JaMES</td>\n      <td>M$$ax%%well</td>\n      <td>875</td>\n      <td>taco</td>\n      <td>3</td>\n      <td>1923/03/12</td>\n      <td>down</td>\n    </tr>\n    <tr>\n      <th>10</th>\n      <td>11</td>\n      <td>Isaac</td>\n      <td>Newton</td>\n      <td>992</td>\n      <td>pasta</td>\n      <td>9</td>\n      <td>1999/02/15</td>\n      <td>never</td>\n    </tr>\n    <tr>\n      <th>11</th>\n      <td>12</td>\n      <td>Emmy%%</td>\n      <td>Nöether$</td>\n      <td>234</td>\n      <td>pasta</td>\n      <td>9</td>\n      <td>1993/12/08</td>\n      <td>gonna</td>\n    </tr>\n    <tr>\n      <th>12</th>\n      <td>13</td>\n      <td>Max!!!</td>\n      <td>Planck!!!</td>\n      <td>111</td>\n      <td>hamburguer</td>\n      <td>4</td>\n      <td>1994/01/04</td>\n      <td>run</td>\n    </tr>\n    <tr>\n      <th>13</th>\n      <td>14</td>\n      <td>Fred</td>\n      <td>Hoy&amp;&amp;&amp;le</td>\n      <td>553</td>\n      <td>pizzza</td>\n      <td>8</td>\n      <td>1997/06/27</td>\n      <td>around</td>\n    </tr>\n    <tr>\n      <th>14</th>\n      <td>15</td>\n      <td>(((   Heinrich )))))</td>\n      <td>Hertz</td>\n      <td>116</td>\n      <td>pizza</td>\n      <td>8</td>\n      <td>1956/11/30</td>\n      <td>and</td>\n    </tr>\n    <tr>\n      <th>15</th>\n      <td>16</td>\n      <td>William</td>\n      <td>Gilbert###</td>\n      <td>886</td>\n      <td>BEER</td>\n      <td>2</td>\n      <td>1958/03/26</td>\n      <td>desert</td>\n    </tr>\n    <tr>\n      <th>16</th>\n      <td>17</td>\n      <td>Marie</td>\n      <td>CURIE</td>\n      <td>912</td>\n      <td>Rice</td>\n      <td>1</td>\n      <td>2000/03/22</td>\n      <td>you</td>\n    </tr>\n    <tr>\n      <th>17</th>\n      <td>18</td>\n      <td>Arthur</td>\n      <td>COM%%%pton</td>\n      <td>812</td>\n      <td>110790</td>\n      <td>5</td>\n      <td>1899/01/01</td>\n      <td>#</td>\n    </tr>\n    <tr>\n      <th>18</th>\n      <td>19</td>\n      <td>JAMES</td>\n      <td>Chadwick</td>\n      <td>467</td>\n      <td>null</td>\n      <td>10</td>\n      <td>1921/05/03</td>\n      <td>#</td>\n    </tr>\n  </tbody>\n</table>\n</div>"
     },
     "execution_count": 14,
     "metadata": {},
     "output_type": "execute_result"
    }
   ],
   "source": [
    "df.data"
   ],
   "metadata": {
    "collapsed": false
   }
  },
  {
   "cell_type": "code",
   "execution_count": 22,
   "outputs": [
    {
     "name": "stdout",
     "output_type": "stream",
     "text": [
      "{'frequency': {'product': {'values': [{'value': 'pizza', 'count': 4}, {'value': 'taco', 'count': 3}, {'value': 'pasta', 'count': 2}, {'value': 'Cake', 'count': 1}, {'value': 'piza', 'count': 1}]}}}\n",
      "{'frequency': {'product': Counter({'pizza': 4, 'taco': 3, 'pasta': 2, 'Cake': 1, 'piza': 1, 'arepa': 1, 'taaaccoo': 1, 'hamburguer': 1, 'pizzza': 1, 'BEER': 1, 'Rice': 1, '110790': 1, 'null': 1}), 'price': {'values': [{'value': 8, 'count': 6}, {'value': 3, 'count': 4}, {'value': 10, 'count': 2}, {'value': 5, 'count': 2}, {'value': 9, 'count': 2}]}}}\n",
      "self.map_results {'frequency': {'product': Counter({'pizza': 4, 'taco': 3, 'pasta': 2, 'Cake': 1, 'piza': 1, 'arepa': 1, 'taaaccoo': 1, 'hamburguer': 1, 'pizzza': 1, 'BEER': 1, 'Rice': 1, '110790': 1, 'null': 1}), 'price': Counter({8: 6, 3: 4, 10: 2, 5: 2, 9: 2, 4: 1, 2: 1, 1: 1})}}\n",
      "Wall time: 3 ms\n"
     ]
    },
    {
     "data": {
      "text/plain": "{'frequency': {'product': {'values': [{'value': 'pizza', 'count': 4},\n    {'value': 'taco', 'count': 3},\n    {'value': 'pasta', 'count': 2},\n    {'value': 'Cake', 'count': 1},\n    {'value': 'piza', 'count': 1}]},\n  'price': {'values': [{'value': 8, 'count': 6},\n    {'value': 3, 'count': 4},\n    {'value': 10, 'count': 2},\n    {'value': 5, 'count': 2},\n    {'value': 9, 'count': 2}]}}}"
     },
     "execution_count": 22,
     "metadata": {},
     "output_type": "execute_result"
    }
   ],
   "source": [
    "%%time\n",
    "def callback(values):\n",
    "    print(values)\n",
    "\n",
    "Stream(df).frequency([\"product\",\"price\"], n=5,chunk_size=10_000, callback=callback)"
   ],
   "metadata": {
    "collapsed": false
   }
  },
  {
   "cell_type": "code",
   "execution_count": null,
   "outputs": [],
   "source": [],
   "metadata": {
    "collapsed": false
   }
  },
  {
   "cell_type": "code",
   "execution_count": 114,
   "outputs": [
    {
     "name": "stdout",
     "output_type": "stream",
     "text": [
      "Wall time: 2.47 ms\n"
     ]
    },
    {
     "data": {
      "text/plain": "{'frequency': {'price': {'values': [{'value': 8, 'count': 6},\n    {'value': 3, 'count': 4},\n    {'value': 5, 'count': 2},\n    {'value': 9, 'count': 2},\n    {'value': 10, 'count': 2},\n    {'value': 1, 'count': 1},\n    {'value': 2, 'count': 1},\n    {'value': 4, 'count': 1}]}}}"
     },
     "execution_count": 114,
     "metadata": {},
     "output_type": "execute_result"
    }
   ],
   "source": [
    "%%time\n",
    "df.cols.frequency(\"price\")"
   ],
   "metadata": {
    "collapsed": false
   }
  },
  {
   "cell_type": "code",
   "execution_count": 16,
   "outputs": [
    {
     "name": "stdout",
     "output_type": "stream",
     "text": [
      "name                        id  nametype    recclass        mass (g)  fall        year                        reclat     reclong  GeoLocation\n",
      "(object)               (int64)  (object)    (object)        (object)  (object)    (object)                  (object)    (object)  (object)\n",
      "-------------------  ---------  ----------  ------------  ----------  ----------  ----------------------  ----------  ----------  -------------\n",
      "Aachen                       1  Valid       L5                    21  Fell        01/01/1880 12:00:00 AM     50.775      6.08333  \"(50.775000\n",
      "Aarhus                       2  Valid       H6                   720  Fell        01/01/1951 12:00:00 AM     56.1833    10.2333   \"(56.183330\n",
      "Abee                         6  Valid       EH4               107000  Fell        01/01/1952 12:00:00 AM     54.2167  -113        \"(54.216670\n",
      "Acapulco                    10  Valid       Acapulcoite         1914  Fell        01/01/1976 12:00:00 AM     16.8833   -99.9      \"(16.883330\n",
      "Achiras                    370  Valid       L6                   780  Fell        01/01/1902 12:00:00 AM    -33.1667   -64.95     \"(-33.166670\n",
      "Adhi Kot                   379  Valid       EH4                 4239  Fell        01/01/1919 12:00:00 AM     32.1       71.8      \"(32.100000\n",
      "Adzhi-Bogdo (stone)        390  Valid       LL3-6                910  Fell        01/01/1949 12:00:00 AM     44.8333    95.1667   \"(44.833330\n",
      "Agen                       392  Valid       H5                 30000  Fell        01/01/1814 12:00:00 AM     44.2167     0.61667  \"(44.216670\n",
      "Aguada                     398  Valid       L6                  1620  Fell        01/01/1930 12:00:00 AM    -31.6      -65.2333   \"(-31.600000\n",
      "Aguila Blanca              417  Valid       L                   1440  Fell        01/01/1920 12:00:00 AM    -30.8667   -64.55     \"(-30.866670\n",
      "Aioun el Atrouss           423  Valid       Diogenite-pm        1000  Fell        01/01/1974 12:00:00 AM     16.3981    -9.57028  \"(16.398060\n",
      "\n"
     ]
    },
    {
     "ename": "AttributeError",
     "evalue": "'Stream' object has no attribute 'df'",
     "output_type": "error",
     "traceback": [
      "\u001B[1;31m---------------------------------------------------------------------------\u001B[0m",
      "\u001B[1;31mAttributeError\u001B[0m                            Traceback (most recent call last)",
      "\u001B[1;32mC:\\Users\\ARGENI~1\\AppData\\Local\\Temp/ipykernel_12208/1739913195.py\u001B[0m in \u001B[0;36m<module>\u001B[1;34m\u001B[0m\n\u001B[1;32m----> 1\u001B[1;33m \u001B[0mdf\u001B[0m\u001B[1;33m.\u001B[0m\u001B[0mcols\u001B[0m\u001B[1;33m.\u001B[0m\u001B[0mhist\u001B[0m\u001B[1;33m(\u001B[0m\u001B[1;34m\"id\"\u001B[0m\u001B[1;33m,\u001B[0m \u001B[1;36m5\u001B[0m\u001B[1;33m,\u001B[0m \u001B[0mstream\u001B[0m\u001B[1;33m=\u001B[0m\u001B[1;32mTrue\u001B[0m\u001B[1;33m)\u001B[0m\u001B[1;33m\u001B[0m\u001B[1;33m\u001B[0m\u001B[0m\n\u001B[0m",
      "\u001B[1;32m~\\Documents\\Optimus\\optimus\\engines\\base\\columns.py\u001B[0m in \u001B[0;36mhist\u001B[1;34m(self, cols, buckets, range, stream, callback, compute)\u001B[0m\n\u001B[0;32m   3519\u001B[0m         \u001B[0mcols\u001B[0m \u001B[1;33m=\u001B[0m \u001B[0mparse_columns\u001B[0m\u001B[1;33m(\u001B[0m\u001B[0mdf\u001B[0m\u001B[1;33m,\u001B[0m \u001B[0mcols\u001B[0m\u001B[1;33m)\u001B[0m\u001B[1;33m\u001B[0m\u001B[1;33m\u001B[0m\u001B[0m\n\u001B[0;32m   3520\u001B[0m         \u001B[1;32mif\u001B[0m \u001B[0mstream\u001B[0m\u001B[1;33m:\u001B[0m\u001B[1;33m\u001B[0m\u001B[1;33m\u001B[0m\u001B[0m\n\u001B[1;32m-> 3521\u001B[1;33m             \u001B[0mStream\u001B[0m\u001B[1;33m(\u001B[0m\u001B[0mdf\u001B[0m\u001B[1;33m)\u001B[0m\u001B[1;33m.\u001B[0m\u001B[0mhistogram\u001B[0m\u001B[1;33m(\u001B[0m\u001B[0mcols\u001B[0m\u001B[1;33m,\u001B[0m \u001B[0mbuckets\u001B[0m\u001B[1;33m,\u001B[0m \u001B[0mrange\u001B[0m\u001B[1;33m,\u001B[0m \u001B[0mcallback\u001B[0m\u001B[1;33m)\u001B[0m\u001B[1;33m\u001B[0m\u001B[1;33m\u001B[0m\u001B[0m\n\u001B[0m\u001B[0;32m   3522\u001B[0m \u001B[1;33m\u001B[0m\u001B[0m\n\u001B[0;32m   3523\u001B[0m         \u001B[0mdfn\u001B[0m \u001B[1;33m=\u001B[0m \u001B[0mdf\u001B[0m\u001B[1;33m.\u001B[0m\u001B[0mcols\u001B[0m\u001B[1;33m.\u001B[0m\u001B[0mselect\u001B[0m\u001B[1;33m(\u001B[0m\u001B[0mcols\u001B[0m\u001B[1;33m)\u001B[0m\u001B[1;33m.\u001B[0m\u001B[0mcols\u001B[0m\u001B[1;33m.\u001B[0m\u001B[0mto_numeric\u001B[0m\u001B[1;33m(\u001B[0m\u001B[1;33m)\u001B[0m\u001B[1;33m\u001B[0m\u001B[1;33m\u001B[0m\u001B[0m\n",
      "\u001B[1;32m~\\Documents\\Optimus\\optimus\\engines\\stream\\stream.py\u001B[0m in \u001B[0;36mhistogram\u001B[1;34m(self, col_name, n, chunk_size, callback)\u001B[0m\n\u001B[0;32m     45\u001B[0m         \u001B[0mformat_params\u001B[0m \u001B[1;33m=\u001B[0m \u001B[1;33m{\u001B[0m\u001B[1;34m\"n\"\u001B[0m\u001B[1;33m:\u001B[0m \u001B[0mn\u001B[0m\u001B[1;33m}\u001B[0m\u001B[1;33m\u001B[0m\u001B[1;33m\u001B[0m\u001B[0m\n\u001B[0;32m     46\u001B[0m         \u001B[0mh\u001B[0m \u001B[1;33m=\u001B[0m \u001B[0mdistogram\u001B[0m\u001B[1;33m.\u001B[0m\u001B[0mDistogram\u001B[0m\u001B[1;33m(\u001B[0m\u001B[1;33m)\u001B[0m\u001B[1;33m\u001B[0m\u001B[1;33m\u001B[0m\u001B[0m\n\u001B[1;32m---> 47\u001B[1;33m         hist = self.accum(map_histogram, accum_histogram, col_name, chunk_size, format_results=format_histogram,\n\u001B[0m\u001B[0;32m     48\u001B[0m                           format_params=format_params, h=h, callback=callback)\n\u001B[0;32m     49\u001B[0m \u001B[1;33m\u001B[0m\u001B[0m\n",
      "\u001B[1;32m~\\Documents\\Optimus\\optimus\\engines\\stream\\stream.py\u001B[0m in \u001B[0;36maccum\u001B[1;34m(self, func_map, func_accum, col_name, chunk_size, format_results, format_params, callback, *args, **kwargs)\u001B[0m\n\u001B[0;32m     32\u001B[0m         \u001B[1;31m# Apply an aggregation function\u001B[0m\u001B[1;33m\u001B[0m\u001B[1;33m\u001B[0m\u001B[1;33m\u001B[0m\u001B[0m\n\u001B[0;32m     33\u001B[0m \u001B[1;33m\u001B[0m\u001B[0m\n\u001B[1;32m---> 34\u001B[1;33m         \u001B[1;32mfor\u001B[0m \u001B[0m_\u001B[0m\u001B[1;33m,\u001B[0m \u001B[0mchunk\u001B[0m \u001B[1;32min\u001B[0m \u001B[0mself\u001B[0m\u001B[1;33m.\u001B[0m\u001B[0mdf\u001B[0m\u001B[1;33m[\u001B[0m\u001B[0mcol_name\u001B[0m\u001B[1;33m]\u001B[0m\u001B[1;33m.\u001B[0m\u001B[0mgroupby\u001B[0m\u001B[1;33m(\u001B[0m\u001B[0mself\u001B[0m\u001B[1;33m.\u001B[0m\u001B[0mdf\u001B[0m\u001B[1;33m.\u001B[0m\u001B[0mindex\u001B[0m \u001B[1;33m//\u001B[0m \u001B[0mchunk_size\u001B[0m\u001B[1;33m)\u001B[0m\u001B[1;33m:\u001B[0m\u001B[1;33m\u001B[0m\u001B[1;33m\u001B[0m\u001B[0m\n\u001B[0m\u001B[0;32m     35\u001B[0m             \u001B[0mchunk\u001B[0m \u001B[1;33m=\u001B[0m \u001B[0mfunc_map\u001B[0m\u001B[1;33m(\u001B[0m\u001B[0mchunk\u001B[0m\u001B[1;33m)\u001B[0m\u001B[1;33m\u001B[0m\u001B[1;33m\u001B[0m\u001B[0m\n\u001B[0;32m     36\u001B[0m             \u001B[1;32mfor\u001B[0m \u001B[0mvalue\u001B[0m \u001B[1;32min\u001B[0m \u001B[0mchunk\u001B[0m\u001B[1;33m:\u001B[0m\u001B[1;33m\u001B[0m\u001B[1;33m\u001B[0m\u001B[0m\n",
      "\u001B[1;31mAttributeError\u001B[0m: 'Stream' object has no attribute 'df'"
     ]
    }
   ],
   "source": [
    "df.cols.hist(\"id\", 5, stream=True)"
   ],
   "metadata": {
    "collapsed": false
   }
  },
  {
   "cell_type": "code",
   "execution_count": 26,
   "outputs": [],
   "source": [
    "from optimus.engines.stream.stream import Stream\n",
    "\n",
    "sdf = Stream(df)"
   ],
   "metadata": {
    "collapsed": false
   }
  },
  {
   "cell_type": "code",
   "execution_count": 24,
   "outputs": [
    {
     "ename": "AttributeError",
     "evalue": "'Stream' object has no attribute 'df'",
     "output_type": "error",
     "traceback": [
      "\u001B[1;31m---------------------------------------------------------------------------\u001B[0m",
      "\u001B[1;31mAttributeError\u001B[0m                            Traceback (most recent call last)",
      "\u001B[1;32mC:\\Users\\ARGENI~1\\AppData\\Local\\Temp/ipykernel_37692/372653370.py\u001B[0m in \u001B[0;36m<module>\u001B[1;34m\u001B[0m\n\u001B[1;32m----> 1\u001B[1;33m \u001B[0msdf\u001B[0m\u001B[1;33m.\u001B[0m\u001B[0mhistogram\u001B[0m\u001B[1;33m(\u001B[0m\u001B[1;34m\"id\"\u001B[0m\u001B[1;33m,\u001B[0m \u001B[1;36m5\u001B[0m\u001B[1;33m)\u001B[0m\u001B[1;33m\u001B[0m\u001B[1;33m\u001B[0m\u001B[0m\n\u001B[0m",
      "\u001B[1;32m~\\Documents\\Optimus\\optimus\\engines\\stream\\stream.py\u001B[0m in \u001B[0;36mhistogram\u001B[1;34m(self, col_name, n, chunk_size, callback)\u001B[0m\n\u001B[0;32m     42\u001B[0m         \u001B[0mformat_params\u001B[0m \u001B[1;33m=\u001B[0m \u001B[1;33m{\u001B[0m\u001B[1;34m\"n\"\u001B[0m\u001B[1;33m:\u001B[0m \u001B[0mn\u001B[0m\u001B[1;33m}\u001B[0m\u001B[1;33m\u001B[0m\u001B[1;33m\u001B[0m\u001B[0m\n\u001B[0;32m     43\u001B[0m         \u001B[0mh\u001B[0m \u001B[1;33m=\u001B[0m \u001B[0mdistogram\u001B[0m\u001B[1;33m.\u001B[0m\u001B[0mDistogram\u001B[0m\u001B[1;33m(\u001B[0m\u001B[1;33m)\u001B[0m\u001B[1;33m\u001B[0m\u001B[1;33m\u001B[0m\u001B[0m\n\u001B[1;32m---> 44\u001B[1;33m         hist = self.accum(map_histogram, accum_histogram, col_name, chunk_size, format_results=format_histogram,\n\u001B[0m\u001B[0;32m     45\u001B[0m                           format_params=format_params, h=h, callback=callback)\n\u001B[0;32m     46\u001B[0m \u001B[1;33m\u001B[0m\u001B[0m\n",
      "\u001B[1;32m~\\Documents\\Optimus\\optimus\\engines\\stream\\stream.py\u001B[0m in \u001B[0;36maccum\u001B[1;34m(self, func_map, func_accum, col_name, chunk_size, format_results, format_params, callback, *args, **kwargs)\u001B[0m\n\u001B[0;32m     29\u001B[0m         \u001B[1;31m# Apply an aggregation function\u001B[0m\u001B[1;33m\u001B[0m\u001B[1;33m\u001B[0m\u001B[1;33m\u001B[0m\u001B[0m\n\u001B[0;32m     30\u001B[0m \u001B[1;33m\u001B[0m\u001B[0m\n\u001B[1;32m---> 31\u001B[1;33m         \u001B[1;32mfor\u001B[0m \u001B[0m_\u001B[0m\u001B[1;33m,\u001B[0m \u001B[0mchunk\u001B[0m \u001B[1;32min\u001B[0m \u001B[0mself\u001B[0m\u001B[1;33m.\u001B[0m\u001B[0mdf\u001B[0m\u001B[1;33m[\u001B[0m\u001B[0mcol_name\u001B[0m\u001B[1;33m]\u001B[0m\u001B[1;33m.\u001B[0m\u001B[0mgroupby\u001B[0m\u001B[1;33m(\u001B[0m\u001B[0mself\u001B[0m\u001B[1;33m.\u001B[0m\u001B[0mdf\u001B[0m\u001B[1;33m.\u001B[0m\u001B[0mindex\u001B[0m \u001B[1;33m//\u001B[0m \u001B[0mchunk_size\u001B[0m\u001B[1;33m)\u001B[0m\u001B[1;33m:\u001B[0m\u001B[1;33m\u001B[0m\u001B[1;33m\u001B[0m\u001B[0m\n\u001B[0m\u001B[0;32m     32\u001B[0m             \u001B[0mchunk\u001B[0m \u001B[1;33m=\u001B[0m \u001B[0mfunc_map\u001B[0m\u001B[1;33m(\u001B[0m\u001B[0mchunk\u001B[0m\u001B[1;33m)\u001B[0m\u001B[1;33m\u001B[0m\u001B[1;33m\u001B[0m\u001B[0m\n\u001B[0;32m     33\u001B[0m             \u001B[1;32mfor\u001B[0m \u001B[0mvalue\u001B[0m \u001B[1;32min\u001B[0m \u001B[0mchunk\u001B[0m\u001B[1;33m:\u001B[0m\u001B[1;33m\u001B[0m\u001B[1;33m\u001B[0m\u001B[0m\n",
      "\u001B[1;31mAttributeError\u001B[0m: 'Stream' object has no attribute 'df'"
     ]
    }
   ],
   "source": [
    "sdf.histogram(\"id\", 5)"
   ],
   "metadata": {
    "collapsed": false
   }
  }
 ],
 "metadata": {
  "kernelspec": {
   "display_name": "Python 3",
   "language": "python",
   "name": "python3"
  },
  "language_info": {
   "codemirror_mode": {
    "name": "ipython",
    "version": 3
   },
   "file_extension": ".py",
   "mimetype": "text/x-python",
   "name": "python",
   "nbconvert_exporter": "python",
   "pygments_lexer": "ipython3",
   "version": "3.7.1"
  }
 },
 "nbformat": 4,
 "nbformat_minor": 2
}
