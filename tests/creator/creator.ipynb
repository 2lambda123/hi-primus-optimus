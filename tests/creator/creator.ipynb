{
 "cells": [
  {
   "cell_type": "markdown",
   "metadata": {},
   "source": [
    "# This notebook creates a test file"
   ]
  },
  {
   "cell_type": "code",
   "execution_count": 2,
   "metadata": {},
   "outputs": [
    {
     "output_type": "stream",
     "name": "stdout",
     "text": [
      "The autoreload extension is already loaded. To reload it, use:\n  %reload_ext autoreload\n"
     ]
    }
   ],
   "source": [
    "%load_ext autoreload\n",
    "%autoreload 2"
   ]
  },
  {
   "cell_type": "code",
   "execution_count": 3,
   "metadata": {
    "inputHidden": false,
    "outputHidden": false
   },
   "outputs": [],
   "source": [
    "import sys\n",
    "sys.path.append(\"../..\")"
   ]
  },
  {
   "cell_type": "code",
   "execution_count": 4,
   "metadata": {},
   "outputs": [],
   "source": [
    "from optimus import Optimus\n",
    "from optimus.helpers.test import Test"
   ]
  },
  {
   "cell_type": "code",
   "execution_count": 5,
   "metadata": {},
   "outputs": [
    {
     "output_type": "stream",
     "name": "stderr",
     "text": [
      "[nltk_data] Downloading package averaged_perceptron_tagger to\n[nltk_data]     C:\\Users\\LuisA\\AppData\\Roaming\\nltk_data...\n[nltk_data]   Package averaged_perceptron_tagger is already up-to-\n[nltk_data]       date!\n"
     ]
    }
   ],
   "source": [
    "op = Optimus(\"pandas\")"
   ]
  },
  {
   "cell_type": "code",
   "execution_count": 6,
   "metadata": {
    "lines_to_next_cell": 0
   },
   "outputs": [
    {
     "output_type": "execute_result",
     "data": {
      "text/plain": [
       "True"
      ]
     },
     "metadata": {},
     "execution_count": 6
    }
   ],
   "source": [
    "from datetime import date, datetime\n",
    "\n",
    "source_df = op.create.dataframe({'NullType': (None, None, None, None, None, None),\n",
    "    'attributes': ([8.5344, 4300.0], [5.334, 2000.0], [7.9248, 4000.0], [3.9624, 1800.0], [None, 5700.0], [91.44, None]),\n",
    "    'date arrival': ('1980/04/10', '1980/04/10', '1980/04/10', '1980/04/10', '1980/04/10', '1980/04/10'),\n",
    "    'function(binary)': (bytearray('Leader', 'utf-8'), bytearray('Espionage', 'utf-8'), bytearray('Security', 'utf-8'), bytearray('First Lieutenant', 'utf-8'), bytearray('None', 'utf-8'), bytearray('Battle Station', 'utf-8')),\n",
    "    'height(ft)': (-28, 17, 26, 13, None, 300),\n",
    "    'japanese name': (['Inochi', 'Convoy'], ['Bumble', 'Goldback'], ['Roadbuster'], ['Meister'], ['Megatron'], ['Metroflex']),\n",
    "    ('last date seen', 'date'): ('2016/09/10', '2015/08/10', '2014/07/10', '2013/06/10', '2012/05/10', '2011/04/10'),\n",
    "    'last position seen': ('19.442735,-99.201111', '10.642707,-71.612534', '37.789563,-122.400356', '33.670666,-117.841553', None, None),\n",
    "    'rank': (10, 7, 7, 8, 10, 8),\n",
    "    ('Cybertronian', 'bool'): (True, True, True, True, True, False),\n",
    "    ('Date Type'): (date(2016, 9, 10), date(2015, 8, 10), date(2014, 6, 24), date(2013, 6, 24), date(2012, 5, 10), date(2011, 4, 10)),\n",
    "    ('age', 'int'): (5000000, 5000000, 5000000, 5000000, 5000000, 5000000),\n",
    "    ('function', 'string'): ('Leader', 'Espionage', 'Security', 'First Lieutenant', 'None', 'Battle Station'),\n",
    "    ('names', 'str'): ('Optimus', 'bumbl#ebéé  ', 'ironhide&', 'Jazz', 'Megatron', 'Metroplex_)^$'),\n",
    "    ('timestamp', 'time'): (datetime(2014, 6, 24, 0, 0), datetime(2014, 6, 24, 0, 0), datetime(2014, 6, 24, 0, 0), datetime(2014, 6, 24, 0, 0), datetime(2014, 6, 24, 0, 0), datetime(2014, 6, 24, 0, 0)),\n",
    "    ('weight(t)', 'float'): (4.3, 2.0, 4.0, 1.8, 5.7, None)}, n_partitions=1)\n",
    "\n",
    "source_df.to_json() == source_df.to_json()"
   ]
  },
  {
   "cell_type": "code",
   "execution_count": 7,
   "metadata": {},
   "outputs": [],
   "source": [
    "t = Test(op, source_df, \"df_ext\", imports=[\"import datetime\"], path = \"df_ext\", final_path=\"..\")"
   ]
  },
  {
   "cell_type": "code",
   "execution_count": 8,
   "metadata": {},
   "outputs": [
    {
     "output_type": "execute_result",
     "data": {
      "text/plain": [
       "6"
      ]
     },
     "metadata": {},
     "execution_count": 8
    }
   ],
   "source": [
    "source_df.rows.count()"
   ]
  },
  {
   "cell_type": "code",
   "execution_count": 9,
   "metadata": {},
   "outputs": [
    {
     "output_type": "stream",
     "name": "stdout",
     "text": [
      "Creating test_sample() test function...\n"
     ]
    }
   ],
   "source": [
    "t.create(None, \"sample\", None, 'df', None, 5, True)"
   ]
  },
  {
   "cell_type": "code",
   "execution_count": 10,
   "metadata": {},
   "outputs": [
    {
     "output_type": "stream",
     "name": "stdout",
     "text": [
      "Creating file ../test_df_ext.py\nDone\n"
     ]
    }
   ],
   "source": [
    "t.run()"
   ]
  },
  {
   "cell_type": "code",
   "execution_count": 11,
   "metadata": {},
   "outputs": [
    {
     "output_type": "stream",
     "name": "stdout",
     "text": [
      "Creating test_stratified_sample() test function...\n"
     ]
    }
   ],
   "source": [
    "numeric_col_B = \"rank\"\n",
    "t.create(None, \"stratified_sample\", None, 'df', None, numeric_col_B, 12)"
   ]
  },
  {
   "cell_type": "code",
   "execution_count": 12,
   "metadata": {},
   "outputs": [
    {
     "output_type": "stream",
     "name": "stdout",
     "text": [
      "Creating file ../test_df_ext.py\nDone\n"
     ]
    }
   ],
   "source": [
    "t.run()"
   ]
  }
 ],
 "metadata": {
  "jupytext": {
   "formats": "ipynb,py:light"
  },
  "kernel_info": {
   "name": "python3"
  },
  "kernelspec": {
   "name": "python3",
   "display_name": "Python 3.8.5 64-bit ('base': conda)"
  },
  "language_info": {
   "codemirror_mode": {
    "name": "ipython",
    "version": 3
   },
   "file_extension": ".py",
   "mimetype": "text/x-python",
   "name": "python",
   "nbconvert_exporter": "python",
   "pygments_lexer": "ipython3",
   "version": "3.8.5"
  },
  "nteract": {
   "version": "0.14.3"
  },
  "interpreter": {
   "hash": "ecf5722fdaf1897a315d257d89d94520bfcaa453217d5becf09b39e73618b0de"
  }
 },
 "nbformat": 4,
 "nbformat_minor": 4
}