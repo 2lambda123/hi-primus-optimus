{
 "cells": [
  {
   "cell_type": "markdown",
   "metadata": {},
   "source": [
    "# This notebook creates a test file"
   ]
  },
  {
   "cell_type": "code",
   "execution_count": 1,
   "metadata": {},
   "outputs": [],
   "source": [
    "%load_ext autoreload\n",
    "%autoreload 2"
   ]
  },
  {
   "cell_type": "code",
   "execution_count": 2,
   "metadata": {
    "inputHidden": false,
    "outputHidden": false
   },
   "outputs": [],
   "source": [
    "import sys\n",
    "sys.path.append(\"../..\")"
   ]
  },
  {
   "cell_type": "code",
   "execution_count": 3,
   "metadata": {},
   "outputs": [],
   "source": [
    "from optimus import Optimus\n",
    "from optimus.helpers.test import Test"
   ]
  },
  {
   "cell_type": "code",
   "execution_count": 4,
   "metadata": {},
   "outputs": [
    {
     "output_type": "stream",
     "name": "stderr",
     "text": [
      "[nltk_data] Downloading package averaged_perceptron_tagger to\n[nltk_data]     C:\\Users\\LuisA\\AppData\\Roaming\\nltk_data...\n[nltk_data]   Package averaged_perceptron_tagger is already up-to-\n[nltk_data]       date!\n"
     ]
    }
   ],
   "source": [
    "op = Optimus(\"pandas\")"
   ]
  },
  {
   "cell_type": "code",
   "execution_count": 5,
   "metadata": {
    "lines_to_next_cell": 0
   },
   "outputs": [
    {
     "output_type": "execute_result",
     "data": {
      "text/plain": [
       "NullType    attributes        date arrival    function(binary)                  height(ft)  japanese name           last date seen       last position seen          rank  Cybertronian    Date Type          age  function          names          timestamp              weight(t)\n",
       "(object)    (object)          (object)        (object)                           (float64)  (object)                (datetime64[ns])     (object)                 (int64)  (bool)          (object)       (int32)  (string)          (string)       (datetime64[ns])       (float64)\n",
       "----------  ----------------  --------------  ------------------------------  ------------  ----------------------  -------------------  ---------------------  ---------  --------------  -----------  ---------  ----------------  -------------  -------------------  -----------\n",
       "            [8.5344, 4300.0]  1980/04/10      bytearray(b'Leader')                     -28  ['Inochi', 'Convoy']    2016-09-10 00:00:00  19.442735,-99.201111          10  True            2016-09-10     5000000  Leader            Optimus        2014-06-24 00:00:00          4.3\n",
       "            [5.334, 2000.0]   1980/04/10      bytearray(b'Espionage')                   17  ['Bumble', 'Goldback']  2015-08-10 00:00:00  10.642707,-71.612534           7  True            2015-08-10     5000000  Espionage         bumbl#ebéé     2014-06-24 00:00:00          2\n",
       "            [7.9248, 4000.0]  1980/04/10      bytearray(b'Security')                    26  ['Roadbuster']          2014-07-10 00:00:00  37.789563,-122.400356          7  True            2014-06-24     5000000  Security          ironhide&      2014-06-24 00:00:00          4\n",
       "            [3.9624, 1800.0]  1980/04/10      bytearray(b'First Lieutenant')            13  ['Meister']             2013-06-10 00:00:00  33.670666,-117.841553          8  True            2013-06-24     5000000  First Lieutenant  Jazz           2014-06-24 00:00:00          1.8\n",
       "            [None, 5700.0]    1980/04/10      bytearray(b'None')                       nan  ['Megatron']            2012-05-10 00:00:00                                10  True            2012-05-10     5000000  None              Megatron       2014-06-24 00:00:00          5.7\n",
       "            [91.44, None]     1980/04/10      bytearray(b'Battle Station')             300  ['Metroflex']           2011-04-10 00:00:00                                 8  True            2011-04-10     5000000  Battle Station    Metroplex_)^$  2014-06-24 00:00:00        nan"
      ],
      "text/html": "\n\n\n\n\n<div class=\"info_items\" style=\"margin: 10px 0; font-family: sans-serif; font-size: 10px;\">Viewing 6 of 6 rows / 16 columns</div>\n<div class=\"info_items\" style=\"margin: 10px 0; font-family: sans-serif; font-size: 10px;\">1 partition(s) </div>\n\n\n<span class=\"optimus_table_container\" style=\"display: inline-flex; flex-direction: column;\">\n    <table class=\"optimus_table\" style=\"font-size: 12px; margin: 0;\">\n        <thead style=\"border-bottom: 1px solid currentColor;\">\n        <tr>\n            \n            <th style=\"font-family: sans-serif; \">\n                <div class=\"column_name\" style=\"font-size: 1.2em;\">NullType</div>\n                <div class=\"data_type\" style=\"font-size: 0.8em; font-weight: normal;\">1 (object)</div>\n                \n            </th>\n            \n            <th style=\"font-family: sans-serif; \">\n                <div class=\"column_name\" style=\"font-size: 1.2em;\">attributes</div>\n                <div class=\"data_type\" style=\"font-size: 0.8em; font-weight: normal;\">2 (object)</div>\n                \n            </th>\n            \n            <th style=\"font-family: sans-serif; \">\n                <div class=\"column_name\" style=\"font-size: 1.2em;\">date arrival</div>\n                <div class=\"data_type\" style=\"font-size: 0.8em; font-weight: normal;\">3 (object)</div>\n                \n            </th>\n            \n            <th style=\"font-family: sans-serif; \">\n                <div class=\"column_name\" style=\"font-size: 1.2em;\">function(binary)</div>\n                <div class=\"data_type\" style=\"font-size: 0.8em; font-weight: normal;\">4 (object)</div>\n                \n            </th>\n            \n            <th style=\"font-family: sans-serif; \">\n                <div class=\"column_name\" style=\"font-size: 1.2em;\">height(ft)</div>\n                <div class=\"data_type\" style=\"font-size: 0.8em; font-weight: normal;\">5 (float64)</div>\n                \n            </th>\n            \n            <th style=\"font-family: sans-serif; \">\n                <div class=\"column_name\" style=\"font-size: 1.2em;\">japanese name</div>\n                <div class=\"data_type\" style=\"font-size: 0.8em; font-weight: normal;\">6 (object)</div>\n                \n            </th>\n            \n            <th style=\"font-family: sans-serif; \">\n                <div class=\"column_name\" style=\"font-size: 1.2em;\">last date seen</div>\n                <div class=\"data_type\" style=\"font-size: 0.8em; font-weight: normal;\">7 (datetime64[ns])</div>\n                \n            </th>\n            \n            <th style=\"font-family: sans-serif; \">\n                <div class=\"column_name\" style=\"font-size: 1.2em;\">last position seen</div>\n                <div class=\"data_type\" style=\"font-size: 0.8em; font-weight: normal;\">8 (object)</div>\n                \n            </th>\n            \n            <th style=\"font-family: sans-serif; \">\n                <div class=\"column_name\" style=\"font-size: 1.2em;\">rank</div>\n                <div class=\"data_type\" style=\"font-size: 0.8em; font-weight: normal;\">9 (int64)</div>\n                \n            </th>\n            \n            <th style=\"font-family: sans-serif; \">\n                <div class=\"column_name\" style=\"font-size: 1.2em;\">Cybertronian</div>\n                <div class=\"data_type\" style=\"font-size: 0.8em; font-weight: normal;\">10 (bool)</div>\n                \n            </th>\n            \n            <th style=\"font-family: sans-serif; \">\n                <div class=\"column_name\" style=\"font-size: 1.2em;\">Date Type</div>\n                <div class=\"data_type\" style=\"font-size: 0.8em; font-weight: normal;\">11 (object)</div>\n                \n            </th>\n            \n            <th style=\"font-family: sans-serif; \">\n                <div class=\"column_name\" style=\"font-size: 1.2em;\">age</div>\n                <div class=\"data_type\" style=\"font-size: 0.8em; font-weight: normal;\">12 (int32)</div>\n                \n            </th>\n            \n            <th style=\"font-family: sans-serif; \">\n                <div class=\"column_name\" style=\"font-size: 1.2em;\">function</div>\n                <div class=\"data_type\" style=\"font-size: 0.8em; font-weight: normal;\">13 (string)</div>\n                \n            </th>\n            \n            <th style=\"font-family: sans-serif; \">\n                <div class=\"column_name\" style=\"font-size: 1.2em;\">names</div>\n                <div class=\"data_type\" style=\"font-size: 0.8em; font-weight: normal;\">14 (string)</div>\n                \n            </th>\n            \n            <th style=\"font-family: sans-serif; \">\n                <div class=\"column_name\" style=\"font-size: 1.2em;\">timestamp</div>\n                <div class=\"data_type\" style=\"font-size: 0.8em; font-weight: normal;\">15 (datetime64[ns])</div>\n                \n            </th>\n            \n            <th style=\"font-family: sans-serif; \">\n                <div class=\"column_name\" style=\"font-size: 1.2em;\">weight(t)</div>\n                <div class=\"data_type\" style=\"font-size: 0.8em; font-weight: normal;\">16 (float64)</div>\n                \n            </th>\n            \n        </tr>\n\n        </thead>\n        <tbody style=\"font-family: monospace;\">\n        \n        <tr>\n            \n            <td style=\"border: 0px; \">\n                <div style=\"min-height: 14px;\" title=\"None\">\n                    \n                    \n                    None\n                    \n                </div>\n            </td>\n            \n            <td style=\"border: 0px; \">\n                <div style=\"min-height: 14px;\" title=\"[8.5344,&#8901;4300.0]\">\n                    \n                    \n                    [8.5344,&#8901;4300.0]\n                    \n                </div>\n            </td>\n            \n            <td style=\"border: 0px; \">\n                <div style=\"min-height: 14px;\" title=\"1980/04/10\">\n                    \n                    \n                    1980/04/10\n                    \n                </div>\n            </td>\n            \n            <td style=\"border: 0px; \">\n                <div style=\"min-height: 14px;\" title=\"bytearray(b'Leader')\">\n                    \n                    \n                    bytearray(b'Leader')\n                    \n                </div>\n            </td>\n            \n            <td style=\"border: 0px; \">\n                <div style=\"min-height: 14px;\" title=\"-28.0\">\n                    \n                    \n                    -28.0\n                    \n                </div>\n            </td>\n            \n            <td style=\"border: 0px; \">\n                <div style=\"min-height: 14px;\" title=\"['Inochi',&#8901;'Convoy']\">\n                    \n                    \n                    ['Inochi',&#8901;'Convoy']\n                    \n                </div>\n            </td>\n            \n            <td style=\"border: 0px; \">\n                <div style=\"min-height: 14px;\" title=\"2016-09-10&#8901;00:00:00\">\n                    \n                    \n                    2016-09-10&#8901;00:00:00\n                    \n                </div>\n            </td>\n            \n            <td style=\"border: 0px; \">\n                <div style=\"min-height: 14px;\" title=\"19.442735,-99.201111\">\n                    \n                    \n                    19.442735,-99.201111\n                    \n                </div>\n            </td>\n            \n            <td style=\"border: 0px; \">\n                <div style=\"min-height: 14px;\" title=\"10\">\n                    \n                    \n                    10\n                    \n                </div>\n            </td>\n            \n            <td style=\"border: 0px; \">\n                <div style=\"min-height: 14px;\" title=\"True\">\n                    \n                    \n                    True\n                    \n                </div>\n            </td>\n            \n            <td style=\"border: 0px; \">\n                <div style=\"min-height: 14px;\" title=\"2016-09-10\">\n                    \n                    \n                    2016-09-10\n                    \n                </div>\n            </td>\n            \n            <td style=\"border: 0px; \">\n                <div style=\"min-height: 14px;\" title=\"5000000\">\n                    \n                    \n                    5000000\n                    \n                </div>\n            </td>\n            \n            <td style=\"border: 0px; \">\n                <div style=\"min-height: 14px;\" title=\"Leader\">\n                    \n                    \n                    Leader\n                    \n                </div>\n            </td>\n            \n            <td style=\"border: 0px; \">\n                <div style=\"min-height: 14px;\" title=\"Optimus\">\n                    \n                    \n                    Optimus\n                    \n                </div>\n            </td>\n            \n            <td style=\"border: 0px; \">\n                <div style=\"min-height: 14px;\" title=\"2014-06-24&#8901;00:00:00\">\n                    \n                    \n                    2014-06-24&#8901;00:00:00\n                    \n                </div>\n            </td>\n            \n            <td style=\"border: 0px; \">\n                <div style=\"min-height: 14px;\" title=\"4.3\">\n                    \n                    \n                    4.3\n                    \n                </div>\n            </td>\n            \n        </tr>\n        \n        <tr>\n            \n            <td style=\"border: 0px; \">\n                <div style=\"min-height: 14px;\" title=\"None\">\n                    \n                    \n                    None\n                    \n                </div>\n            </td>\n            \n            <td style=\"border: 0px; \">\n                <div style=\"min-height: 14px;\" title=\"[5.334,&#8901;2000.0]\">\n                    \n                    \n                    [5.334,&#8901;2000.0]\n                    \n                </div>\n            </td>\n            \n            <td style=\"border: 0px; \">\n                <div style=\"min-height: 14px;\" title=\"1980/04/10\">\n                    \n                    \n                    1980/04/10\n                    \n                </div>\n            </td>\n            \n            <td style=\"border: 0px; \">\n                <div style=\"min-height: 14px;\" title=\"bytearray(b'Espionage')\">\n                    \n                    \n                    bytearray(b'Espionage')\n                    \n                </div>\n            </td>\n            \n            <td style=\"border: 0px; \">\n                <div style=\"min-height: 14px;\" title=\"17.0\">\n                    \n                    \n                    17.0\n                    \n                </div>\n            </td>\n            \n            <td style=\"border: 0px; \">\n                <div style=\"min-height: 14px;\" title=\"['Bumble',&#8901;'Goldback']\">\n                    \n                    \n                    ['Bumble',&#8901;'Goldback']\n                    \n                </div>\n            </td>\n            \n            <td style=\"border: 0px; \">\n                <div style=\"min-height: 14px;\" title=\"2015-08-10&#8901;00:00:00\">\n                    \n                    \n                    2015-08-10&#8901;00:00:00\n                    \n                </div>\n            </td>\n            \n            <td style=\"border: 0px; \">\n                <div style=\"min-height: 14px;\" title=\"10.642707,-71.612534\">\n                    \n                    \n                    10.642707,-71.612534\n                    \n                </div>\n            </td>\n            \n            <td style=\"border: 0px; \">\n                <div style=\"min-height: 14px;\" title=\"7\">\n                    \n                    \n                    7\n                    \n                </div>\n            </td>\n            \n            <td style=\"border: 0px; \">\n                <div style=\"min-height: 14px;\" title=\"True\">\n                    \n                    \n                    True\n                    \n                </div>\n            </td>\n            \n            <td style=\"border: 0px; \">\n                <div style=\"min-height: 14px;\" title=\"2015-08-10\">\n                    \n                    \n                    2015-08-10\n                    \n                </div>\n            </td>\n            \n            <td style=\"border: 0px; \">\n                <div style=\"min-height: 14px;\" title=\"5000000\">\n                    \n                    \n                    5000000\n                    \n                </div>\n            </td>\n            \n            <td style=\"border: 0px; \">\n                <div style=\"min-height: 14px;\" title=\"Espionage\">\n                    \n                    \n                    Espionage\n                    \n                </div>\n            </td>\n            \n            <td style=\"border: 0px; \">\n                <div style=\"min-height: 14px;\" title=\"bumbl#ebéé&#8901;&#8901;\">\n                    \n                    \n                    bumbl#ebéé&#8901;&#8901;\n                    \n                </div>\n            </td>\n            \n            <td style=\"border: 0px; \">\n                <div style=\"min-height: 14px;\" title=\"2014-06-24&#8901;00:00:00\">\n                    \n                    \n                    2014-06-24&#8901;00:00:00\n                    \n                </div>\n            </td>\n            \n            <td style=\"border: 0px; \">\n                <div style=\"min-height: 14px;\" title=\"2.0\">\n                    \n                    \n                    2.0\n                    \n                </div>\n            </td>\n            \n        </tr>\n        \n        <tr>\n            \n            <td style=\"border: 0px; \">\n                <div style=\"min-height: 14px;\" title=\"None\">\n                    \n                    \n                    None\n                    \n                </div>\n            </td>\n            \n            <td style=\"border: 0px; \">\n                <div style=\"min-height: 14px;\" title=\"[7.9248,&#8901;4000.0]\">\n                    \n                    \n                    [7.9248,&#8901;4000.0]\n                    \n                </div>\n            </td>\n            \n            <td style=\"border: 0px; \">\n                <div style=\"min-height: 14px;\" title=\"1980/04/10\">\n                    \n                    \n                    1980/04/10\n                    \n                </div>\n            </td>\n            \n            <td style=\"border: 0px; \">\n                <div style=\"min-height: 14px;\" title=\"bytearray(b'Security')\">\n                    \n                    \n                    bytearray(b'Security')\n                    \n                </div>\n            </td>\n            \n            <td style=\"border: 0px; \">\n                <div style=\"min-height: 14px;\" title=\"26.0\">\n                    \n                    \n                    26.0\n                    \n                </div>\n            </td>\n            \n            <td style=\"border: 0px; \">\n                <div style=\"min-height: 14px;\" title=\"['Roadbuster']\">\n                    \n                    \n                    ['Roadbuster']\n                    \n                </div>\n            </td>\n            \n            <td style=\"border: 0px; \">\n                <div style=\"min-height: 14px;\" title=\"2014-07-10&#8901;00:00:00\">\n                    \n                    \n                    2014-07-10&#8901;00:00:00\n                    \n                </div>\n            </td>\n            \n            <td style=\"border: 0px; \">\n                <div style=\"min-height: 14px;\" title=\"37.789563,-122.400356\">\n                    \n                    \n                    37.789563,-122.400356\n                    \n                </div>\n            </td>\n            \n            <td style=\"border: 0px; \">\n                <div style=\"min-height: 14px;\" title=\"7\">\n                    \n                    \n                    7\n                    \n                </div>\n            </td>\n            \n            <td style=\"border: 0px; \">\n                <div style=\"min-height: 14px;\" title=\"True\">\n                    \n                    \n                    True\n                    \n                </div>\n            </td>\n            \n            <td style=\"border: 0px; \">\n                <div style=\"min-height: 14px;\" title=\"2014-06-24\">\n                    \n                    \n                    2014-06-24\n                    \n                </div>\n            </td>\n            \n            <td style=\"border: 0px; \">\n                <div style=\"min-height: 14px;\" title=\"5000000\">\n                    \n                    \n                    5000000\n                    \n                </div>\n            </td>\n            \n            <td style=\"border: 0px; \">\n                <div style=\"min-height: 14px;\" title=\"Security\">\n                    \n                    \n                    Security\n                    \n                </div>\n            </td>\n            \n            <td style=\"border: 0px; \">\n                <div style=\"min-height: 14px;\" title=\"ironhide&\">\n                    \n                    \n                    ironhide&\n                    \n                </div>\n            </td>\n            \n            <td style=\"border: 0px; \">\n                <div style=\"min-height: 14px;\" title=\"2014-06-24&#8901;00:00:00\">\n                    \n                    \n                    2014-06-24&#8901;00:00:00\n                    \n                </div>\n            </td>\n            \n            <td style=\"border: 0px; \">\n                <div style=\"min-height: 14px;\" title=\"4.0\">\n                    \n                    \n                    4.0\n                    \n                </div>\n            </td>\n            \n        </tr>\n        \n        <tr>\n            \n            <td style=\"border: 0px; \">\n                <div style=\"min-height: 14px;\" title=\"None\">\n                    \n                    \n                    None\n                    \n                </div>\n            </td>\n            \n            <td style=\"border: 0px; \">\n                <div style=\"min-height: 14px;\" title=\"[3.9624,&#8901;1800.0]\">\n                    \n                    \n                    [3.9624,&#8901;1800.0]\n                    \n                </div>\n            </td>\n            \n            <td style=\"border: 0px; \">\n                <div style=\"min-height: 14px;\" title=\"1980/04/10\">\n                    \n                    \n                    1980/04/10\n                    \n                </div>\n            </td>\n            \n            <td style=\"border: 0px; \">\n                <div style=\"min-height: 14px;\" title=\"bytearray(b'First&#8901;Lieutenant')\">\n                    \n                    \n                    bytearray(b'First&#8901;Lieutenant')\n                    \n                </div>\n            </td>\n            \n            <td style=\"border: 0px; \">\n                <div style=\"min-height: 14px;\" title=\"13.0\">\n                    \n                    \n                    13.0\n                    \n                </div>\n            </td>\n            \n            <td style=\"border: 0px; \">\n                <div style=\"min-height: 14px;\" title=\"['Meister']\">\n                    \n                    \n                    ['Meister']\n                    \n                </div>\n            </td>\n            \n            <td style=\"border: 0px; \">\n                <div style=\"min-height: 14px;\" title=\"2013-06-10&#8901;00:00:00\">\n                    \n                    \n                    2013-06-10&#8901;00:00:00\n                    \n                </div>\n            </td>\n            \n            <td style=\"border: 0px; \">\n                <div style=\"min-height: 14px;\" title=\"33.670666,-117.841553\">\n                    \n                    \n                    33.670666,-117.841553\n                    \n                </div>\n            </td>\n            \n            <td style=\"border: 0px; \">\n                <div style=\"min-height: 14px;\" title=\"8\">\n                    \n                    \n                    8\n                    \n                </div>\n            </td>\n            \n            <td style=\"border: 0px; \">\n                <div style=\"min-height: 14px;\" title=\"True\">\n                    \n                    \n                    True\n                    \n                </div>\n            </td>\n            \n            <td style=\"border: 0px; \">\n                <div style=\"min-height: 14px;\" title=\"2013-06-24\">\n                    \n                    \n                    2013-06-24\n                    \n                </div>\n            </td>\n            \n            <td style=\"border: 0px; \">\n                <div style=\"min-height: 14px;\" title=\"5000000\">\n                    \n                    \n                    5000000\n                    \n                </div>\n            </td>\n            \n            <td style=\"border: 0px; \">\n                <div style=\"min-height: 14px;\" title=\"First&#8901;Lieutenant\">\n                    \n                    \n                    First&#8901;Lieutenant\n                    \n                </div>\n            </td>\n            \n            <td style=\"border: 0px; \">\n                <div style=\"min-height: 14px;\" title=\"Jazz\">\n                    \n                    \n                    Jazz\n                    \n                </div>\n            </td>\n            \n            <td style=\"border: 0px; \">\n                <div style=\"min-height: 14px;\" title=\"2014-06-24&#8901;00:00:00\">\n                    \n                    \n                    2014-06-24&#8901;00:00:00\n                    \n                </div>\n            </td>\n            \n            <td style=\"border: 0px; \">\n                <div style=\"min-height: 14px;\" title=\"1.8\">\n                    \n                    \n                    1.8\n                    \n                </div>\n            </td>\n            \n        </tr>\n        \n        <tr>\n            \n            <td style=\"border: 0px; \">\n                <div style=\"min-height: 14px;\" title=\"None\">\n                    \n                    \n                    None\n                    \n                </div>\n            </td>\n            \n            <td style=\"border: 0px; \">\n                <div style=\"min-height: 14px;\" title=\"[None,&#8901;5700.0]\">\n                    \n                    \n                    [None,&#8901;5700.0]\n                    \n                </div>\n            </td>\n            \n            <td style=\"border: 0px; \">\n                <div style=\"min-height: 14px;\" title=\"1980/04/10\">\n                    \n                    \n                    1980/04/10\n                    \n                </div>\n            </td>\n            \n            <td style=\"border: 0px; \">\n                <div style=\"min-height: 14px;\" title=\"bytearray(b'None')\">\n                    \n                    \n                    bytearray(b'None')\n                    \n                </div>\n            </td>\n            \n            <td style=\"border: 0px; \">\n                <div style=\"min-height: 14px;\" title=\"nan\">\n                    \n                    \n                    nan\n                    \n                </div>\n            </td>\n            \n            <td style=\"border: 0px; \">\n                <div style=\"min-height: 14px;\" title=\"['Megatron']\">\n                    \n                    \n                    ['Megatron']\n                    \n                </div>\n            </td>\n            \n            <td style=\"border: 0px; \">\n                <div style=\"min-height: 14px;\" title=\"2012-05-10&#8901;00:00:00\">\n                    \n                    \n                    2012-05-10&#8901;00:00:00\n                    \n                </div>\n            </td>\n            \n            <td style=\"border: 0px; \">\n                <div style=\"min-height: 14px;\" title=\"None\">\n                    \n                    \n                    None\n                    \n                </div>\n            </td>\n            \n            <td style=\"border: 0px; \">\n                <div style=\"min-height: 14px;\" title=\"10\">\n                    \n                    \n                    10\n                    \n                </div>\n            </td>\n            \n            <td style=\"border: 0px; \">\n                <div style=\"min-height: 14px;\" title=\"True\">\n                    \n                    \n                    True\n                    \n                </div>\n            </td>\n            \n            <td style=\"border: 0px; \">\n                <div style=\"min-height: 14px;\" title=\"2012-05-10\">\n                    \n                    \n                    2012-05-10\n                    \n                </div>\n            </td>\n            \n            <td style=\"border: 0px; \">\n                <div style=\"min-height: 14px;\" title=\"5000000\">\n                    \n                    \n                    5000000\n                    \n                </div>\n            </td>\n            \n            <td style=\"border: 0px; \">\n                <div style=\"min-height: 14px;\" title=\"None\">\n                    \n                    \n                    None\n                    \n                </div>\n            </td>\n            \n            <td style=\"border: 0px; \">\n                <div style=\"min-height: 14px;\" title=\"Megatron\">\n                    \n                    \n                    Megatron\n                    \n                </div>\n            </td>\n            \n            <td style=\"border: 0px; \">\n                <div style=\"min-height: 14px;\" title=\"2014-06-24&#8901;00:00:00\">\n                    \n                    \n                    2014-06-24&#8901;00:00:00\n                    \n                </div>\n            </td>\n            \n            <td style=\"border: 0px; \">\n                <div style=\"min-height: 14px;\" title=\"5.7\">\n                    \n                    \n                    5.7\n                    \n                </div>\n            </td>\n            \n        </tr>\n        \n        <tr>\n            \n            <td style=\"border: 0px; \">\n                <div style=\"min-height: 14px;\" title=\"None\">\n                    \n                    \n                    None\n                    \n                </div>\n            </td>\n            \n            <td style=\"border: 0px; \">\n                <div style=\"min-height: 14px;\" title=\"[91.44,&#8901;None]\">\n                    \n                    \n                    [91.44,&#8901;None]\n                    \n                </div>\n            </td>\n            \n            <td style=\"border: 0px; \">\n                <div style=\"min-height: 14px;\" title=\"1980/04/10\">\n                    \n                    \n                    1980/04/10\n                    \n                </div>\n            </td>\n            \n            <td style=\"border: 0px; \">\n                <div style=\"min-height: 14px;\" title=\"bytearray(b'Battle&#8901;Station')\">\n                    \n                    \n                    bytearray(b'Battle&#8901;Station')\n                    \n                </div>\n            </td>\n            \n            <td style=\"border: 0px; \">\n                <div style=\"min-height: 14px;\" title=\"300.0\">\n                    \n                    \n                    300.0\n                    \n                </div>\n            </td>\n            \n            <td style=\"border: 0px; \">\n                <div style=\"min-height: 14px;\" title=\"['Metroflex']\">\n                    \n                    \n                    ['Metroflex']\n                    \n                </div>\n            </td>\n            \n            <td style=\"border: 0px; \">\n                <div style=\"min-height: 14px;\" title=\"2011-04-10&#8901;00:00:00\">\n                    \n                    \n                    2011-04-10&#8901;00:00:00\n                    \n                </div>\n            </td>\n            \n            <td style=\"border: 0px; \">\n                <div style=\"min-height: 14px;\" title=\"None\">\n                    \n                    \n                    None\n                    \n                </div>\n            </td>\n            \n            <td style=\"border: 0px; \">\n                <div style=\"min-height: 14px;\" title=\"8\">\n                    \n                    \n                    8\n                    \n                </div>\n            </td>\n            \n            <td style=\"border: 0px; \">\n                <div style=\"min-height: 14px;\" title=\"True\">\n                    \n                    \n                    True\n                    \n                </div>\n            </td>\n            \n            <td style=\"border: 0px; \">\n                <div style=\"min-height: 14px;\" title=\"2011-04-10\">\n                    \n                    \n                    2011-04-10\n                    \n                </div>\n            </td>\n            \n            <td style=\"border: 0px; \">\n                <div style=\"min-height: 14px;\" title=\"5000000\">\n                    \n                    \n                    5000000\n                    \n                </div>\n            </td>\n            \n            <td style=\"border: 0px; \">\n                <div style=\"min-height: 14px;\" title=\"Battle&#8901;Station\">\n                    \n                    \n                    Battle&#8901;Station\n                    \n                </div>\n            </td>\n            \n            <td style=\"border: 0px; \">\n                <div style=\"min-height: 14px;\" title=\"Metroplex_)^$\">\n                    \n                    \n                    Metroplex_)^$\n                    \n                </div>\n            </td>\n            \n            <td style=\"border: 0px; \">\n                <div style=\"min-height: 14px;\" title=\"2014-06-24&#8901;00:00:00\">\n                    \n                    \n                    2014-06-24&#8901;00:00:00\n                    \n                </div>\n            </td>\n            \n            <td style=\"border: 0px; \">\n                <div style=\"min-height: 14px;\" title=\"nan\">\n                    \n                    \n                    nan\n                    \n                </div>\n            </td>\n            \n        </tr>\n        \n        </tbody>\n    </table>\n    <div style=\"background-color: currentColor; opacity: 0.2; height: 1px; width: 100%\"></div>\n</span>\n\n<div class=\"info_items\" style=\"margin: 10px 0; font-family: sans-serif; font-size: 10px;\">Viewing 6 of 6 rows / 16 columns</div>\n<div class=\"info_items\" style=\"margin: 10px 0; font-family: sans-serif; font-size: 10px;\">1 partition(s) &lt;class &#39;optimus.engines.pandas.dataframe.PandasDataFrame&#39;&gt;</div>\n\n"
     },
     "metadata": {},
     "execution_count": 5
    }
   ],
   "source": [
    "from datetime import date, datetime\n",
    "\n",
    "source_df = op.create.dataframe({'NullType': (None, None, None, None, None, None),\n",
    "    'attributes': ([8.5344, 4300.0], [5.334, 2000.0], [7.9248, 4000.0], [3.9624, 1800.0], [None, 5700.0], [91.44, None]),\n",
    "    'date arrival': ('1980/04/10', '1980/04/10', '1980/04/10', '1980/04/10', '1980/04/10', '1980/04/10'),\n",
    "    'function(binary)': (bytearray('Leader', 'utf-8'), bytearray('Espionage', 'utf-8'), bytearray('Security', 'utf-8'), bytearray('First Lieutenant', 'utf-8'), bytearray('None', 'utf-8'), bytearray('Battle Station', 'utf-8')),\n",
    "    'height(ft)': (-28, 17, 26, 13, None, 300),\n",
    "    'japanese name': (['Inochi', 'Convoy'], ['Bumble', 'Goldback'], ['Roadbuster'], ['Meister'], ['Megatron'], ['Metroflex']),\n",
    "    ('last date seen', 'date'): ('2016/09/10', '2015/08/10', '2014/07/10', '2013/06/10', '2012/05/10', '2011/04/10'),\n",
    "    'last position seen': ('19.442735,-99.201111', '10.642707,-71.612534', '37.789563,-122.400356', '33.670666,-117.841553', None, None),\n",
    "    'rank': (10, 7, 7, 8, 10, 8),\n",
    "    ('Cybertronian', 'bool'): (True, True, True, True, True, True),\n",
    "    ('Date Type'): (date(2016, 9, 10), date(2015, 8, 10), date(2014, 6, 24), date(2013, 6, 24), date(2012, 5, 10), date(2011, 4, 10)),\n",
    "    ('age', 'int'): (5000000, 5000000, 5000000, 5000000, 5000000, 5000000),\n",
    "    ('function', 'string'): ('Leader', 'Espionage', 'Security', 'First Lieutenant', 'None', 'Battle Station'),\n",
    "    ('names', 'str'): ('Optimus', 'bumbl#ebéé  ', 'ironhide&', 'Jazz', 'Megatron', 'Metroplex_)^$'),\n",
    "    ('timestamp', 'time'): (datetime(2014, 6, 24, 0, 0), datetime(2014, 6, 24, 0, 0), datetime(2014, 6, 24, 0, 0), datetime(2014, 6, 24, 0, 0), datetime(2014, 6, 24, 0, 0), datetime(2014, 6, 24, 0, 0)),\n",
    "    ('weight(t)', 'float'): (4.3, 2.0, 4.0, 1.8, 5.7, None)}, n_partitions=1)\n",
    "\n",
    "source_df"
   ]
  },
  {
   "cell_type": "code",
   "execution_count": 6,
   "metadata": {},
   "outputs": [],
   "source": [
    "t = Test(op, source_df, \"df_ext\", imports=[\"import datetime\"], path = \"df_ext\", final_path=\"..\")"
   ]
  },
  {
   "cell_type": "code",
   "execution_count": 7,
   "metadata": {},
   "outputs": [
    {
     "output_type": "execute_result",
     "data": {
      "text/plain": [
       "6"
      ]
     },
     "metadata": {},
     "execution_count": 7
    }
   ],
   "source": [
    "source_df.rows.count()"
   ]
  },
  {
   "cell_type": "code",
   "execution_count": 8,
   "metadata": {},
   "outputs": [
    {
     "output_type": "stream",
     "name": "stdout",
     "text": [
      "Creating test_sample() test function...\n"
     ]
    }
   ],
   "source": [
    "t.create(None, \"sample\", None, 'df', None, 5, True)"
   ]
  },
  {
   "cell_type": "code",
   "execution_count": 9,
   "metadata": {},
   "outputs": [
    {
     "output_type": "stream",
     "name": "stdout",
     "text": [
      "Creating file ../test_df_ext.py\nDone\n"
     ]
    }
   ],
   "source": [
    "t.run()"
   ]
  },
  {
   "cell_type": "code",
   "execution_count": 10,
   "metadata": {},
   "outputs": [
    {
     "output_type": "stream",
     "name": "stdout",
     "text": [
      "Creating test_stratified_sample() test function...\n"
     ]
    }
   ],
   "source": [
    "numeric_col_B = \"rank\"\n",
    "t.create(None, \"stratified_sample\", None, 'df', None, numeric_col_B, 12)"
   ]
  },
  {
   "cell_type": "code",
   "execution_count": 11,
   "metadata": {},
   "outputs": [
    {
     "output_type": "stream",
     "name": "stdout",
     "text": [
      "Creating file ../test_df_ext.py\nDone\n"
     ]
    }
   ],
   "source": [
    "t.run()"
   ]
  },
  {
   "cell_type": "code",
   "execution_count": null,
   "metadata": {},
   "outputs": [],
   "source": []
  }
 ],
 "metadata": {
  "jupytext": {
   "formats": "ipynb,py:light"
  },
  "kernel_info": {
   "name": "python3"
  },
  "kernelspec": {
   "name": "python3",
   "display_name": "Python 3.8.5 64-bit ('base': conda)"
  },
  "language_info": {
   "codemirror_mode": {
    "name": "ipython",
    "version": 3
   },
   "file_extension": ".py",
   "mimetype": "text/x-python",
   "name": "python",
   "nbconvert_exporter": "python",
   "pygments_lexer": "ipython3",
   "version": "3.8.5"
  },
  "nteract": {
   "version": "0.14.3"
  },
  "interpreter": {
   "hash": "ecf5722fdaf1897a315d257d89d94520bfcaa453217d5becf09b39e73618b0de"
  }
 },
 "nbformat": 4,
 "nbformat_minor": 4
}